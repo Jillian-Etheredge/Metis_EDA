{
 "cells": [
  {
   "cell_type": "code",
   "execution_count": null,
   "metadata": {},
   "outputs": [],
   "source": [
    "import pandas as pd\n",
    "\n",
    "final_merge = pd.read_csv('final_merge_v2.csv')\n",
    "\n",
    "final_merge.head(5)"
   ]
  },
  {
   "cell_type": "code",
   "execution_count": null,
   "metadata": {},
   "outputs": [],
   "source": [
    "\n",
    "\n",
    "## Normalize Variables based on Min-Max Scale Method##\n",
    "\n",
    "final_merge['NM_FEMALE_POPULATION']=(final_merge['Total Female Population - 25 years and over']-final_merge['Total Female Population - 25 years and over'].min())/(final_merge['Total Female Population - 25 years and over'].max()-final_merge['Total Female Population - 25 years and over'].min())1"
   ]
  },
  {
   "cell_type": "code",
   "execution_count": null,
   "metadata": {},
   "outputs": [],
   "source": [
    "final_merge['NM_INCOME']=(final_merge['Median Income - 25 years and over']-final_merge['Median Income - 25 years and over'].min())/(final_merge['Median Income - 25 years and over'].max()-final_merge['Median Income - 25 years and over'].min())"
   ]
  },
  {
   "cell_type": "code",
   "execution_count": null,
   "metadata": {},
   "outputs": [],
   "source": [
    "final_merge['NM_DEGREE']=(final_merge['Total Population - 25 years and over - Advanced Degrees']-final_merge['Total Population - 25 years and over - Advanced Degrees'].min())/(final_merge['Total Population - 25 years and over - Advanced Degrees'].max()-final_merge['Total Population - 25 years and over - Advanced Degrees'].min())"
   ]
  },
  {
   "cell_type": "code",
   "execution_count": null,
   "metadata": {},
   "outputs": [],
   "source": [
    "# Calculated Weighted Score #\n",
    "# Formula: Weighted Rank Score = 5 * Normalized Daily Entries + 3 * Normalized Female Population + 3 * Normalized Median Income + 1 * Normalized Advanced Degree\n",
    "\n",
    "\n",
    "final_merge['Weighted_Raned_Score']=final_merge['NM_DAILY_ENTRIES']*5+final_merge['NM_FEMALE_POPULATION']*3+final_merge['NM_INCOME']*2+final_merge['NM_DEGREE']*1"
   ]
  },
  {
   "cell_type": "code",
   "execution_count": null,
   "metadata": {},
   "outputs": [],
   "source": [
    "final_merge.head(2)"
   ]
  },
  {
   "cell_type": "code",
   "execution_count": null,
   "metadata": {},
   "outputs": [],
   "source": [
    "## Sort the dataset by Weighted Rank Score ###\n",
    "\n",
    "\n",
    "Final2=final_merge.sort_values(\"Weighted_Raned_Score\",ascending=False)\n",
    "Final2.head(5)"
   ]
  },
  {
   "cell_type": "code",
   "execution_count": null,
   "metadata": {},
   "outputs": [],
   "source": [
    "## Get Longtitude and Lattitude (Prepare to load into Tableau for better visidualization (in future) )##"
   ]
  },
  {
   "cell_type": "code",
   "execution_count": null,
   "metadata": {},
   "outputs": [],
   "source": [
    "Final2['LONGITUDE'] = Final2['geometry'].str.replace(\"(\",\"\").str.replace(\")\",\"\").apply(lambda x: pd.Series(x.split(' ')))[1]\n",
    "Final2['LATITUDE'] = Final2['geometry'].str.replace(\"(\",\"\").str.replace(\")\",\"\").apply(lambda x: pd.Series(x.split(' ')))[2]\n",
    "\n",
    "Final2.head(50)"
   ]
  },
  {
   "cell_type": "code",
   "execution_count": null,
   "metadata": {},
   "outputs": [],
   "source": [
    "## save to pickle ##\n",
    "Final2.to_pickle(\"final_weighted_data.pkl\")"
   ]
  },
  {
   "cell_type": "code",
   "execution_count": null,
   "metadata": {},
   "outputs": [],
   "source": [
    "## save to csv ##\n",
    "\n",
    "Final2.to_csv('final_weighted_data.csv')"
   ]
  },
  {
   "cell_type": "code",
   "execution_count": null,
   "metadata": {},
   "outputs": [],
   "source": [
    "## save to excel ##\n",
    "\n",
    "Final2.to_excel('Mapping_f2_tableau.xlsx')"
   ]
  }
 ],
 "metadata": {
  "kernelspec": {
   "display_name": "Python 3",
   "language": "python",
   "name": "python3"
  },
  "language_info": {
   "codemirror_mode": {
    "name": "ipython",
    "version": 3
   },
   "file_extension": ".py",
   "mimetype": "text/x-python",
   "name": "python",
   "nbconvert_exporter": "python",
   "pygments_lexer": "ipython3",
   "version": "3.8.5"
  }
 },
 "nbformat": 4,
 "nbformat_minor": 4
}
